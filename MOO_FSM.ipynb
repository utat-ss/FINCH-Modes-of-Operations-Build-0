{
 "cells": [
  {
   "cell_type": "markdown",
   "id": "4c692161",
   "metadata": {},
   "source": [
    "# MOO_FSM"
   ]
  },
  {
   "cell_type": "markdown",
   "id": "6eef4a33",
   "metadata": {},
   "source": [
    "## Setup"
   ]
  },
  {
   "cell_type": "code",
   "execution_count": 11,
   "id": "d879a99d",
   "metadata": {},
   "outputs": [],
   "source": [
    "from enum import Enum"
   ]
  },
  {
   "cell_type": "markdown",
   "id": "d44c8e90",
   "metadata": {},
   "source": [
    "## Class Creation"
   ]
  },
  {
   "cell_type": "code",
   "execution_count": 12,
   "id": "efcf825d",
   "metadata": {},
   "outputs": [],
   "source": [
    "class Mode(Enum):\n",
    "    \n",
    "    LEOP = 0\n",
    "    IDLE = 1\n",
    "    IMAGING = 2\n",
    "    PROCESSING = 3\n",
    "    DOWNLINK = 4"
   ]
  },
  {
   "cell_type": "code",
   "execution_count": 13,
   "id": "faf87a6c",
   "metadata": {},
   "outputs": [],
   "source": [
    "class SpacecraftState:\n",
    "    def __init__(self):\n",
    "        self.battery_level = 0.8\n",
    "        self.location = True\n",
    "        self.sunlight = 0.5\n",
    "        self.reaction_wheel_saturation = 0.0\n",
    "        self.angular_rate = 0.0\n",
    "        self.next_imaging = 20000.0\n",
    "        self.next_comm = 20000.0\n",
    "        self.data_processed = True\n",
    "        self.detumbled = True\n",
    "        "
   ]
  },
  {
   "cell_type": "code",
   "execution_count": 14,
   "id": "18d0381b",
   "metadata": {},
   "outputs": [],
   "source": [
    "class FINCH:\n",
    "    \n",
    "    def __init__(self):\n",
    "        self.state = SpacecraftState()\n",
    "        self.mode = Mode.LEOP\n",
    "\n",
    "    def print_mode(self):\n",
    "\n",
    "        print(\"Current Mode is \" + str(self.mode.name))\n",
    "\n",
    "    def change_mode(self):\n",
    "        \n",
    "        if self.mode == Mode.LEOP: \n",
    "            if self.state.detumbled and self.state.angular_rate == 0.0:\n",
    "                self.mode = Mode.IDLE\n",
    "                self.print_mode()\n",
    "                return True\n",
    "            \n",
    "        elif self.mode == Mode.IDLE:\n",
    "            if self.state.angular_rate == 0.0 and self.state.next_imaging < 1000 and self.state.battery_level > 0.75 and self.state.reaction_wheel_saturation == 0.0:\n",
    "                self.mode = Mode.IMAGING\n",
    "                self.print_mode()\n",
    "                return True\n",
    "            elif self.state.data_processed == True and self.state.next_comm < 1000 and self.state.battery_level > 0.7:\n",
    "                self.mode = Mode.DOWNLINK\n",
    "                self.print_mode()\n",
    "                return True\n",
    "            elif self.state.data_processed == False and self.state.next_comm > 1000 and self.state.next_imaging > 1000 and self.state.battery_level > 0.6:\n",
    "                self.mode = Mode.PROCESSING\n",
    "                self.print_mode()\n",
    "                return True\n",
    "            \n",
    "        return False\n",
    "        \n",
    "    def mode_work(self):\n",
    "        \n",
    "        if self.mode == Mode.IDLE:\n",
    "                \n",
    "            if (self.state.reaction_wheel_saturation != 0.0 and self.state.battery_level > 60) or (self.state.reaction_wheel_saturation < 0.5 and self.state.sunlight > 0.0):\n",
    "                print(\"Desaturating reaction wheels\")\n",
    "            else:\n",
    "                print(\"Pointing in the direction of the sun\")\n",
    "                    \n",
    "        elif self.mode == Mode.PROCESSING:\n",
    "                print(\"Processing\")\n",
    "            \n",
    "        elif self.mode == Mode.IMAGING:\n",
    "                print(\"Imaging\")\n",
    "            \n",
    "        elif self.mode == Mode.DOWNLINK:\n",
    "                print(\"Downlinking\")\n",
    "    \n",
    "    \n",
    "    def refresh_mode(self):\n",
    "        \n",
    "        if self.change_mode():\n",
    "            pass\n",
    "        else:\n",
    "            self.mode_work()                \n",
    "        "
   ]
  },
  {
   "cell_type": "code",
   "execution_count": 15,
   "id": "b1d78987",
   "metadata": {},
   "outputs": [
    {
     "name": "stdout",
     "output_type": "stream",
     "text": [
      "Current Mode is LEOP\n",
      "Current Mode is IDLE\n",
      "Current Mode is IDLE\n",
      "Desaturating reaction wheels\n",
      "Current Mode is IDLE\n"
     ]
    }
   ],
   "source": [
    "Mingde = FINCH()\n",
    "Mingde.print_mode()\n",
    "Mingde.refresh_mode()\n",
    "Mingde.print_mode()\n",
    "Mingde.state.battery_level = 0.4\n",
    "Mingde.refresh_mode()\n",
    "Mingde.print_mode()"
   ]
  }
 ],
 "metadata": {
  "kernelspec": {
   "display_name": "Python 3.9.0 64-bit",
   "language": "python",
   "name": "python3"
  },
  "language_info": {
   "codemirror_mode": {
    "name": "ipython",
    "version": 3
   },
   "file_extension": ".py",
   "mimetype": "text/x-python",
   "name": "python",
   "nbconvert_exporter": "python",
   "pygments_lexer": "ipython3",
   "version": "3.9.0"
  },
  "vscode": {
   "interpreter": {
    "hash": "9d601cd80716a1311013b93bf8e13f662f2cd2759dcd569c0b085d8eefc193af"
   }
  }
 },
 "nbformat": 4,
 "nbformat_minor": 5
}
